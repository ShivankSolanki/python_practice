test = int(input("Enter a number: "))
if test%2 == 0:
    print("The given number is even")
else:
    print("The given number is odd")
