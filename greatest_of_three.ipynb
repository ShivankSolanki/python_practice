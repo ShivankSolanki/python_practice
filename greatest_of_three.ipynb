a = int(input("Enter first number: "))
b = int(input("Enter second number: "))
c = int(input("Enter third number: "))
if (a>=c) and (a>=b):
    print("{} is the greatest among the three numbers".format(a))
elif (b>=c) and (b>=a):
    print("{} is the greatest among the three numbers".format(b))    
else :    
    print("{} is the greatest among the three numbers".format(c))
