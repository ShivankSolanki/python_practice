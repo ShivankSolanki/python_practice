n = int(input("Enter a number: "))
if n == 0 or n == 1 :
    print("Niether prime nor composite")
else:
    for i in range (2, n):
        if n%2 == 0:
            print("Given number is not prime")
            break
    else :
        print("The given number is prime")
