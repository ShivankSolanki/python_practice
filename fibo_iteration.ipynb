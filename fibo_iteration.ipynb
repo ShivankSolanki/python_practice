def fibonacci(n):
    a = 1
    b = 1
    c = 1
    print(1, end = " ")
    for i in range (n-1):
        print(c, end = " ")
        a=b
        b=c
        c=a+b
        
        
fibonacci(12)
