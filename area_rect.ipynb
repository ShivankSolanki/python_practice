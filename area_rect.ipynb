a = int(input("Enter side 1: "))
b = int(input("Enter side 2: "))
c = int(input("Enter side 3: "))
s = (a+b+c)/2
area = (s*(s-a)*(s-b)*(s-c))**(1/2)
print("Area of  triangle with given sides is {}".format(area))
