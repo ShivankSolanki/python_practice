def fval(n):
    if n == 1 :
        x = 1
    elif n == 2:
        x = 1
    else :
        x = fval(n-1) + fval(n-2)
    return(x)

l1 = list()
n = int(input("Enter a value: "))
for i in range(1, n+1):
    l1.append(fval(i))

print(l1)
